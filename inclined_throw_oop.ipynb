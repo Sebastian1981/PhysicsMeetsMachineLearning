{
 "cells": [
  {
   "cell_type": "markdown",
   "metadata": {},
   "source": [
    "# Implementing physics from textbook \"Physik mit Python\""
   ]
  },
  {
   "cell_type": "markdown",
   "metadata": {},
   "source": [
    "# Ressources:\n",
    "https://www.youtube.com/watch?v=7yZ5xxdkTb8"
   ]
  },
  {
   "cell_type": "markdown",
   "metadata": {},
   "source": [
    "## 4.1 Inclined Throw"
   ]
  },
  {
   "cell_type": "code",
   "execution_count": null,
   "metadata": {},
   "outputs": [],
   "source": [
    "import math\n",
    "import numpy as np\n",
    "import pandas as pd\n",
    "import matplotlib.pyplot as plt\n",
    "from scipy.optimize import minimize, Bounds\n",
    "from sklearn.neural_network import MLPRegressor\n",
    "from sklearn.model_selection import train_test_split\n",
    "\n",
    "from Modules import MassPoint, PhysicsModel # import my own modules"
   ]
  },
  {
   "cell_type": "code",
   "execution_count": null,
   "metadata": {},
   "outputs": [],
   "source": [
    "# set initial values\n",
    "h         = 10.0 # height [m]\n",
    "v_ab      = 5.0  # initial velocity [m/s]\n",
    "alpha_deg = 25.0 # throw angle in degrees\n",
    "g         = 9.81 # earth gravity constant"
   ]
  },
  {
   "cell_type": "code",
   "execution_count": null,
   "metadata": {},
   "outputs": [],
   "source": [
    "def inclined_throw_fun(h, v_ab, alpha_deg, g):\n",
    "    mp       = MassPoint(h, v_ab, alpha_deg)\n",
    "    pmodel   = PhysicsModel(h, v_ab, alpha_deg, g)\n",
    "    t_e      = pmodel.time_mp_hits_earth()\n",
    "    t        = pmodel.make_time_points(0,t_e,1000)\n",
    "    r        = pmodel.get_spacetime_vector_of_throw(time_points=t)\n",
    "    dist     = r[-1,0]\n",
    "    dist_inv = 1/dist\n",
    "    return r, dist, dist_inv"
   ]
  },
  {
   "cell_type": "code",
   "execution_count": null,
   "metadata": {},
   "outputs": [],
   "source": [
    "def plot_spacetime_vector(spacetime_vector):    \n",
    "    fig = plt.figure()\n",
    "    ax  = fig.add_subplot(1,1,1)\n",
    "    ax.set_xlabel('x [m]')\n",
    "    ax.set_ylabel('y [m]')\n",
    "    ax.grid()\n",
    "    ax.plot(spacetime_vector[:,0], spacetime_vector[:,1])\n",
    "    plt.show()"
   ]
  },
  {
   "cell_type": "code",
   "execution_count": null,
   "metadata": {},
   "outputs": [],
   "source": [
    "r, dist, dist_inv = inclined_throw_fun(h=h, v_ab=v_ab, alpha_deg=20.0, g=g)\n",
    "print('distance: ', dist)\n",
    "plot_spacetime_vector(spacetime_vector=r)"
   ]
  },
  {
   "cell_type": "code",
   "execution_count": null,
   "metadata": {},
   "outputs": [],
   "source": [
    "r1, _, _ = inclined_throw_fun(h=h, v_ab=v_ab, alpha_deg= 0.0, g=g)\n",
    "r2, _, _ = inclined_throw_fun(h=h, v_ab=v_ab, alpha_deg=10.0, g=g)\n",
    "r3, _, _ = inclined_throw_fun(h=h, v_ab=v_ab, alpha_deg=20.0, g=g)\n",
    "\n",
    "# plot results\n",
    "fig = plt.figure()\n",
    "ax  = fig.add_subplot(1,1,1)\n",
    "ax.set_xlabel('x [m]')\n",
    "ax.set_ylabel('y [m]')\n",
    "\n",
    "ax.grid()\n",
    "ax.plot(r1[:,0], r1[:,1])\n",
    "ax.plot(r2[:,0], r2[:,1])\n",
    "ax.plot(r3[:,0], r3[:,1])\n",
    "ax.legend(['alpha_deg=0','alpha_deg=10','alpha_deg=20'])\n",
    "plt.show()"
   ]
  },
  {
   "cell_type": "markdown",
   "metadata": {},
   "source": [
    "# Optimization: Maximize the distance under variation of the angle "
   ]
  },
  {
   "cell_type": "code",
   "execution_count": null,
   "metadata": {},
   "outputs": [],
   "source": [
    "_, _, dist_inv = inclined_throw_fun(h=h, v_ab=v_ab, alpha_deg=alpha_deg, g=g)\n",
    "print(dist_inv)"
   ]
  },
  {
   "cell_type": "code",
   "execution_count": null,
   "metadata": {},
   "outputs": [],
   "source": [
    "def objective_fun(x):\n",
    "    h         = x[0]\n",
    "    v_ab      = x[1]\n",
    "    alpha_deg = x[2]\n",
    "    g         = x[3]\n",
    "    _, _, dist_inv = inclined_throw_fun(h=h, v_ab=v_ab, alpha_deg=alpha_deg, g=g)\n",
    "    return (dist_inv - 0)**2      "
   ]
  },
  {
   "cell_type": "code",
   "execution_count": null,
   "metadata": {},
   "outputs": [],
   "source": [
    "def optimal_angle_given_height(lb=[h, v_ab, -89.0, g], ub=[h, v_ab, 89.0, g]):\n",
    "    bounds    = Bounds(lb=lb, ub=ub)\n",
    "    params    = [h, v_ab, alpha_deg, g]\n",
    "    res       = minimize(objective_fun, \n",
    "                         params, \n",
    "                         method = 'trust-constr', \n",
    "                         bounds = bounds)\n",
    "    optimal_angle = res['constr'][0][2]\n",
    "    print('The optimal angle is {:0.1f} degrees.'.format(optimal_angle))\n",
    "    return optimal_angle"
   ]
  },
  {
   "cell_type": "code",
   "execution_count": null,
   "metadata": {},
   "outputs": [],
   "source": [
    "optimal_angle_given_height(lb=[h, v_ab, -89.0, g], ub=[h, v_ab, 89.0, g])"
   ]
  },
  {
   "cell_type": "code",
   "execution_count": null,
   "metadata": {},
   "outputs": [],
   "source": [
    "optimal_angle_list = [optimal_angle_given_height(lb=[h, v_ab, -89.0, g], ub=[h, v_ab, 89.0, g]) for h in range(0, 100)]"
   ]
  },
  {
   "cell_type": "code",
   "execution_count": null,
   "metadata": {},
   "outputs": [],
   "source": [
    "# plot results\n",
    "fig = plt.figure()\n",
    "ax  = fig.add_subplot(1,1,1)\n",
    "ax.set_ylim(0,50)\n",
    "ax.set_xlabel('height [m]')\n",
    "ax.set_ylabel('optimal angle [°]')\n",
    "ax.grid()\n",
    "ax.plot(optimal_angle_list)\n",
    "plt.show()"
   ]
  },
  {
   "cell_type": "markdown",
   "metadata": {},
   "source": [
    "# Machine Learning Application"
   ]
  },
  {
   "cell_type": "markdown",
   "metadata": {},
   "source": [
    "## Model the relationship between height, initial velocity, throwing angle and gravity constant as input parameters and the according distance as output parameter"
   ]
  },
  {
   "cell_type": "markdown",
   "metadata": {},
   "source": [
    "### first of all simulate data for various combinations of these parameters"
   ]
  },
  {
   "cell_type": "code",
   "execution_count": null,
   "metadata": {},
   "outputs": [],
   "source": [
    "# loop over many possible combinations i.e. sample the parameter space as densely as possible\n",
    "\n",
    "# save results in discitionary\n",
    "data_dic = {}\n",
    "\n",
    "counter = 0\n",
    "for h in range(0,100,4):\n",
    "    for v_ab in range(1,25,4):\n",
    "        for alpha_deg in range(-90,90,4):\n",
    "            for g in range(1,25,4): # ranging from moon to jupiter\n",
    "                \n",
    "                # calculate distance\n",
    "                _, dist, _ = inclined_throw_fun(h=h, v_ab=v_ab, alpha_deg=alpha_deg, g=g)\n",
    "                \n",
    "                # save result\n",
    "                data_dic[str(counter)] = [h, v_ab, alpha_deg, g, dist]\n",
    "                \n",
    "                # increase counter\n",
    "                counter += 1"
   ]
  },
  {
   "cell_type": "code",
   "execution_count": null,
   "metadata": {},
   "outputs": [],
   "source": [
    "df = pd.DataFrame.from_dict(data_dic, orient='index', columns=['height', 'v_ab', 'alpha_deg', 'g', 'distance'])"
   ]
  },
  {
   "cell_type": "code",
   "execution_count": null,
   "metadata": {},
   "outputs": [],
   "source": [
    "df"
   ]
  },
  {
   "cell_type": "markdown",
   "metadata": {},
   "source": [
    "### use neural network to predict the distance given the input parameters"
   ]
  },
  {
   "cell_type": "code",
   "execution_count": null,
   "metadata": {},
   "outputs": [],
   "source": [
    "# define features and targets\n",
    "X = df[['height', 'v_ab', 'alpha_deg', 'g']]\n",
    "y = df[['distance']].values.reshape(-1)"
   ]
  },
  {
   "cell_type": "code",
   "execution_count": null,
   "metadata": {},
   "outputs": [],
   "source": [
    "# split data for validation\n",
    "X_train, X_test, y_train, y_test = train_test_split(X, y, train_size=0.8, random_state=1)"
   ]
  },
  {
   "cell_type": "code",
   "execution_count": null,
   "metadata": {},
   "outputs": [],
   "source": [
    "regr = MLPRegressor(hidden_layer_sizes = (20,10), \n",
    "                    random_state       = 1, \n",
    "                    max_iter           = 1000)"
   ]
  },
  {
   "cell_type": "code",
   "execution_count": null,
   "metadata": {},
   "outputs": [],
   "source": [
    "regr.fit(X_train, y_train)"
   ]
  },
  {
   "cell_type": "code",
   "execution_count": null,
   "metadata": {},
   "outputs": [],
   "source": [
    "regr.score(X_train, y_train)"
   ]
  },
  {
   "cell_type": "code",
   "execution_count": null,
   "metadata": {},
   "outputs": [],
   "source": [
    "regr.score(X_test, y_test)"
   ]
  },
  {
   "cell_type": "code",
   "execution_count": null,
   "metadata": {},
   "outputs": [],
   "source": [
    "y_pred = regr.predict(X_test)"
   ]
  },
  {
   "cell_type": "code",
   "execution_count": null,
   "metadata": {},
   "outputs": [],
   "source": [
    "plt.scatter(y_test, y_pred)\n",
    "plt.xlabel('true distance [m]')\n",
    "plt.ylabel('predicted distance [m]')\n",
    "plt.show()"
   ]
  },
  {
   "cell_type": "code",
   "execution_count": null,
   "metadata": {},
   "outputs": [],
   "source": [
    "def prep_input_nn(x):\n",
    "    # proved a list of input variables\n",
    "    return np.array([x])"
   ]
  },
  {
   "cell_type": "code",
   "execution_count": null,
   "metadata": {},
   "outputs": [],
   "source": [
    "def distance_fun_nn(x):\n",
    "    # x must be in the form of x = array([[ 63,  19, -18,  10]]) --> use prep_input_nn(x)\n",
    "    distance = regr.predict(x)\n",
    "    return distance"
   ]
  },
  {
   "cell_type": "code",
   "execution_count": null,
   "metadata": {},
   "outputs": [],
   "source": [
    "def inverse_distance_fun_nn(x):\n",
    "    # x must be in the form of x = array([[ 63,  19, -18,  10]]) --> use prep_input_nn(x)\n",
    "    distance = regr.predict(x)\n",
    "    return distance**(-1)"
   ]
  },
  {
   "cell_type": "code",
   "execution_count": null,
   "metadata": {},
   "outputs": [],
   "source": [
    "x_test = [ 63,  19, -18,  10]\n",
    "x_test"
   ]
  },
  {
   "cell_type": "code",
   "execution_count": null,
   "metadata": {},
   "outputs": [],
   "source": [
    "x = prep_input_nn(x_test)\n",
    "x"
   ]
  },
  {
   "cell_type": "code",
   "execution_count": null,
   "metadata": {},
   "outputs": [],
   "source": [
    "distance_nn = distance_fun_nn(x)\n",
    "print(distance_nn)"
   ]
  },
  {
   "cell_type": "code",
   "execution_count": null,
   "metadata": {},
   "outputs": [],
   "source": [
    "inverse_distance_nn = inverse_distance_fun_nn(x)\n",
    "print(inverse_distance_nn)"
   ]
  },
  {
   "cell_type": "code",
   "execution_count": null,
   "metadata": {},
   "outputs": [],
   "source": [
    "def objective_fun_nn(x):\n",
    "    # provide asset of parameter in a list x with: x = ['height', 'v_ab', 'alpha_deg', 'g'] \n",
    "    x = prep_input_nn(x)\n",
    "    inverse_distance = inverse_distance_fun_nn(x)\n",
    "    return (inverse_distance - 0)**2"
   ]
  },
  {
   "cell_type": "code",
   "execution_count": null,
   "metadata": {},
   "outputs": [],
   "source": [
    "x_test"
   ]
  },
  {
   "cell_type": "code",
   "execution_count": null,
   "metadata": {},
   "outputs": [],
   "source": [
    "objective_fun_nn(x_test)"
   ]
  },
  {
   "cell_type": "code",
   "execution_count": null,
   "metadata": {},
   "outputs": [],
   "source": [
    "def optimal_angle_given_height_nn(lb=[h, v_ab, -90.0, g], ub=[h, v_ab, 90.0, g]):\n",
    "    bounds    = Bounds(lb=lb, ub=ub)\n",
    "    params    = [h, v_ab, alpha_deg, g]\n",
    "    res       = minimize(objective_fun_nn, \n",
    "                         params, \n",
    "                         method = 'trust-constr', \n",
    "                         bounds = bounds)\n",
    "    optimal_angle = res['constr'][0][2]\n",
    "    print('The optimal angle is {:0.1f} degrees.'.format(optimal_angle))\n",
    "    return optimal_angle"
   ]
  },
  {
   "cell_type": "code",
   "execution_count": null,
   "metadata": {},
   "outputs": [],
   "source": [
    "optimal_angle_given_height_nn(lb=[h, v_ab, -90.0, g], ub=[h, v_ab, 90.0, g])"
   ]
  },
  {
   "cell_type": "code",
   "execution_count": null,
   "metadata": {},
   "outputs": [],
   "source": [
    "optimal_angle_list_nn = [optimal_angle_given_height_nn(lb=[h, v_ab, -90.0, g], ub=[h, v_ab, 90.0, g]) for h in range(0, 100)]"
   ]
  },
  {
   "cell_type": "code",
   "execution_count": null,
   "metadata": {},
   "outputs": [],
   "source": [
    "# plot results\n",
    "fig = plt.figure()\n",
    "ax  = fig.add_subplot(1,1,1)\n",
    "\n",
    "ax.plot(optimal_angle_list)\n",
    "ax.plot(optimal_angle_list_nn)\n",
    "\n",
    "ax.set_ylim(0,90)\n",
    "ax.set_xlabel('height [m]')\n",
    "ax.set_ylabel('optimal angle [°]')\n",
    "ax.legend(['true optimal angle','predicted optimal angel with nn'])\n",
    "ax.grid()\n",
    "plt.show()"
   ]
  },
  {
   "cell_type": "code",
   "execution_count": null,
   "metadata": {},
   "outputs": [],
   "source": [
    "# try brute force algorithm to find optimal angle using the NN since the gradient descent algo \n",
    "#probabliy doesent work since the curve is not smooth"
   ]
  },
  {
   "cell_type": "code",
   "execution_count": null,
   "metadata": {},
   "outputs": [],
   "source": [
    "# set initial values\n",
    "h         = 10.0 # height [m]\n",
    "v_ab      = 5.0  # initial velocity [m/s]\n",
    "alpha_deg = 25.0 # throw angle in degrees\n",
    "g         = 9.81 # earth gravity constant"
   ]
  },
  {
   "cell_type": "code",
   "execution_count": null,
   "metadata": {},
   "outputs": [],
   "source": [
    "data_dic = {}\n",
    "counter = 0\n",
    "for h in range(0,100,1):\n",
    "    for alpha_deg in range(-90,90,1):\n",
    "        # input values\n",
    "        params = np.array([[h, v_ab, alpha_deg, g]])\n",
    "        # calculate distance\n",
    "        distance = distance_fun_nn(params)\n",
    "        distance = np.round(distance[0],2)\n",
    "        # save results\n",
    "        data_dic[str(counter)] = [h, v_ab, alpha_deg, g, distance]\n",
    "        # increase counter\n",
    "        counter +=1\n",
    "        \n",
    "        #print('input parameters: ', params)\n",
    "        #print('throw distance: ', distance)"
   ]
  },
  {
   "cell_type": "code",
   "execution_count": null,
   "metadata": {},
   "outputs": [],
   "source": [
    "df = pd.DataFrame.from_dict(data_dic, orient='index', columns=['height', 'v_ab', 'alpha_deg', 'g', 'distance'])"
   ]
  },
  {
   "cell_type": "code",
   "execution_count": null,
   "metadata": {},
   "outputs": [],
   "source": [
    "df.head()"
   ]
  },
  {
   "cell_type": "code",
   "execution_count": null,
   "metadata": {},
   "outputs": [],
   "source": [
    "distance  = df[df['height'] == 0]['distance']\n",
    "alpha_deg = df[df['height'] == 0]['alpha_deg']"
   ]
  },
  {
   "cell_type": "code",
   "execution_count": null,
   "metadata": {},
   "outputs": [],
   "source": [
    "plt.plot(alpha_deg, distance)\n",
    "plt.show()"
   ]
  },
  {
   "cell_type": "code",
   "execution_count": null,
   "metadata": {},
   "outputs": [],
   "source": [
    "h = 0\n",
    "index = np.argmax(df[df['height'] == h]['distance'])\n",
    "alpha_deg_opt = df[df['height'] == h].iloc[index,:]['alpha_deg']\n",
    "\n",
    "print('height: ', h)\n",
    "print('the optimal angle is: ', alpha_deg_opt)"
   ]
  },
  {
   "cell_type": "code",
   "execution_count": null,
   "metadata": {},
   "outputs": [],
   "source": [
    "for h in range(0,100):\n",
    "    index = np.argmax(df[df['height'] == h]['distance'])\n",
    "    alpha_deg_opt = df[df['height'] == h].iloc[index,:]['alpha_deg']\n",
    "\n",
    "    print('height: ', h)\n",
    "    print('the optimal angle is: ', alpha_deg_opt)\n",
    "    "
   ]
  },
  {
   "cell_type": "code",
   "execution_count": null,
   "metadata": {},
   "outputs": [],
   "source": [
    "#test test"
   ]
  },
  {
   "cell_type": "code",
   "execution_count": null,
   "metadata": {},
   "outputs": [],
   "source": []
  },
  {
   "cell_type": "code",
   "execution_count": null,
   "metadata": {},
   "outputs": [],
   "source": []
  },
  {
   "cell_type": "code",
   "execution_count": null,
   "metadata": {},
   "outputs": [],
   "source": [
    "#"
   ]
  },
  {
   "cell_type": "code",
   "execution_count": null,
   "metadata": {},
   "outputs": [],
   "source": [
    "# To Do\n",
    "# xxxxxx\n",
    "# https://docs.scipy.org/doc/scipy/reference/tutorial/optimize.html\n"
   ]
  }
 ],
 "metadata": {
  "kernelspec": {
   "display_name": "Python 3",
   "language": "python",
   "name": "python3"
  },
  "language_info": {
   "codemirror_mode": {
    "name": "ipython",
    "version": 3
   },
   "file_extension": ".py",
   "mimetype": "text/x-python",
   "name": "python",
   "nbconvert_exporter": "python",
   "pygments_lexer": "ipython3",
   "version": "3.8.5-final"
  }
 },
 "nbformat": 4,
 "nbformat_minor": 4
}